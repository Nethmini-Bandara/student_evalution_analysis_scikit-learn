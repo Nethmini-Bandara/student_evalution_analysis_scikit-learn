{
 "cells": [
  {
   "cell_type": "code",
   "execution_count": 15,
   "id": "ccd73d9f",
   "metadata": {},
   "outputs": [],
   "source": [
    "from sklearn.model_selection import train_test_split\n",
    "from sklearn.preprocessing import StandardScaler\n",
    "from sklearn.naive_bayes import GaussianNB\n",
    "from sklearn.metrics import classification_report, confusion_matrix\n",
    "import pandas as pd\n",
    "import numpy as np"
   ]
  },
  {
   "cell_type": "code",
   "execution_count": 16,
   "id": "eb546a61",
   "metadata": {},
   "outputs": [],
   "source": [
    "dataset = pd.read_csv(\"dataset/DATA_copy_columndevided.csv\")"
   ]
  },
  {
   "cell_type": "code",
   "execution_count": 17,
   "id": "b27033f4",
   "metadata": {},
   "outputs": [
    {
     "name": "stdout",
     "output_type": "stream",
     "text": [
      "     STUDENT ID  1  2  3  4  5  6  7  8  9  ...  23  24  25  26  27  28  29  \\\n",
      "0      STUDENT1  2  2  3  3  1  2  2  1  1  ...   1   1   3   2   1   2   1   \n",
      "1      STUDENT2  2  2  3  3  1  2  2  1  1  ...   1   1   3   2   3   2   2   \n",
      "2      STUDENT3  2  2  2  3  2  2  2  2  4  ...   1   1   2   2   1   1   2   \n",
      "3      STUDENT4  1  1  1  3  1  2  1  2  1  ...   1   2   3   2   2   1   3   \n",
      "4      STUDENT5  2  2  1  3  2  2  1  3  1  ...   2   1   2   2   2   1   2   \n",
      "..          ... .. .. .. .. .. .. .. .. ..  ...  ..  ..  ..  ..  ..  ..  ..   \n",
      "140  STUDENT141  2  1  2  3  1  1  2  1  1  ...   1   1   2   1   2   1   3   \n",
      "141  STUDENT142  1  1  2  4  2  2  2  1  4  ...   1   1   3   2   2   1   5   \n",
      "142  STUDENT143  1  1  1  4  2  2  2  1  1  ...   1   1   3   3   2   1   4   \n",
      "143  STUDENT144  2  1  2  4  1  1  1  5  2  ...   2   1   2   1   2   1   5   \n",
      "144  STUDENT145  1  1  1  5  2  2  2  3  1  ...   2   1   3   2   3   1   5   \n",
      "\n",
      "     30  COURSE ID  GRADE  \n",
      "0     1          1      1  \n",
      "1     3          1      1  \n",
      "2     2          1      1  \n",
      "3     2          1      1  \n",
      "4     2          1      1  \n",
      "..   ..        ...    ...  \n",
      "140   3          9      5  \n",
      "141   3          9      5  \n",
      "142   3          9      1  \n",
      "143   3          9      4  \n",
      "144   4          9      3  \n",
      "\n",
      "[145 rows x 33 columns]\n"
     ]
    }
   ],
   "source": [
    "print(dataset)"
   ]
  },
  {
   "cell_type": "code",
   "execution_count": 18,
   "id": "d88343d8",
   "metadata": {},
   "outputs": [],
   "source": [
    "X = dataset.iloc[:, 1:32].values\n",
    "y = dataset.iloc[:, 32].values"
   ]
  },
  {
   "cell_type": "code",
   "execution_count": 10,
   "id": "e1d92f3b",
   "metadata": {},
   "outputs": [
    {
     "name": "stdout",
     "output_type": "stream",
     "text": [
      "[[2 2 3 ... 1 1 1]\n",
      " [2 2 3 ... 2 3 1]\n",
      " [2 2 2 ... 2 2 1]\n",
      " ...\n",
      " [1 1 1 ... 4 3 9]\n",
      " [2 1 2 ... 5 3 9]\n",
      " [1 1 1 ... 5 4 9]]\n"
     ]
    }
   ],
   "source": [
    "print(X)"
   ]
  },
  {
   "cell_type": "code",
   "execution_count": 6,
   "id": "0b976d61",
   "metadata": {},
   "outputs": [
    {
     "name": "stdout",
     "output_type": "stream",
     "text": [
      "[1 1 1 1 1 2 5 2 5 0 2 0 0 1 2 2 1 2 2 3 1 1 3 1 2 3 1 1 3 5 5 3 1 2 2 1 2\n",
      " 1 2 1 1 1 1 4 1 3 5 3 1 2 1 4 1 5 3 3 5 4 3 5 2 5 3 5 3 2 5 1 5 5 7 6 6 6\n",
      " 7 7 4 7 4 3 4 3 7 7 7 4 5 6 6 6 6 6 7 4 6 5 7 6 7 7 6 7 7 7 3 7 7 6 6 7 2\n",
      " 2 2 1 2 1 1 1 1 2 1 0 2 1 3 2 3 1 0 3 1 4 3 3 1 2 0 2 0 0 5 5 1 4 3]\n"
     ]
    }
   ],
   "source": [
    "print(y)"
   ]
  },
  {
   "cell_type": "code",
   "execution_count": 19,
   "id": "933e83e6",
   "metadata": {},
   "outputs": [],
   "source": [
    "X_train, X_test, y_train, y_test = train_test_split(X,y,test_size=0.20)"
   ]
  },
  {
   "cell_type": "code",
   "execution_count": 20,
   "id": "dd360528",
   "metadata": {},
   "outputs": [],
   "source": [
    "scaler = StandardScaler()\n",
    "scaler.fit(X_train)\n",
    "X_train = scaler.transform(X_train)\n",
    "X_test = scaler.transform(X_test)"
   ]
  },
  {
   "cell_type": "code",
   "execution_count": 21,
   "id": "84e07cd6",
   "metadata": {},
   "outputs": [
    {
     "data": {
      "text/plain": [
       "GaussianNB()"
      ]
     },
     "execution_count": 21,
     "metadata": {},
     "output_type": "execute_result"
    }
   ],
   "source": [
    "classifier = GaussianNB()\n",
    "classifier.fit(X_train,y_train)"
   ]
  },
  {
   "cell_type": "code",
   "execution_count": 22,
   "id": "c2fa237f",
   "metadata": {},
   "outputs": [],
   "source": [
    "y_predict = classifier.predict(X_test)"
   ]
  },
  {
   "cell_type": "code",
   "execution_count": 23,
   "id": "72ed7edf",
   "metadata": {},
   "outputs": [
    {
     "name": "stdout",
     "output_type": "stream",
     "text": [
      "[[1 0 0 0 0 0 0 0]\n",
      " [0 0 0 0 2 0 2 2]\n",
      " [1 0 0 0 1 0 2 1]\n",
      " [1 0 0 0 0 0 0 5]\n",
      " [0 0 0 0 0 0 0 0]\n",
      " [1 0 0 0 0 0 3 1]\n",
      " [1 0 0 0 0 0 0 0]\n",
      " [0 0 0 0 0 0 2 3]]\n",
      "              precision    recall  f1-score   support\n",
      "\n",
      "           0       0.20      1.00      0.33         1\n",
      "           1       0.00      0.00      0.00         6\n",
      "           2       0.00      0.00      0.00         5\n",
      "           3       0.00      0.00      0.00         6\n",
      "           4       0.00      0.00      0.00         0\n",
      "           5       0.00      0.00      0.00         5\n",
      "           6       0.00      0.00      0.00         1\n",
      "           7       0.25      0.60      0.35         5\n",
      "\n",
      "    accuracy                           0.14        29\n",
      "   macro avg       0.06      0.20      0.09        29\n",
      "weighted avg       0.05      0.14      0.07        29\n",
      "\n"
     ]
    },
    {
     "name": "stderr",
     "output_type": "stream",
     "text": [
      "C:\\Users\\nethm\\anaconda3\\lib\\site-packages\\sklearn\\metrics\\_classification.py:1318: UndefinedMetricWarning: Precision and F-score are ill-defined and being set to 0.0 in labels with no predicted samples. Use `zero_division` parameter to control this behavior.\n",
      "  _warn_prf(average, modifier, msg_start, len(result))\n",
      "C:\\Users\\nethm\\anaconda3\\lib\\site-packages\\sklearn\\metrics\\_classification.py:1318: UndefinedMetricWarning: Recall and F-score are ill-defined and being set to 0.0 in labels with no true samples. Use `zero_division` parameter to control this behavior.\n",
      "  _warn_prf(average, modifier, msg_start, len(result))\n",
      "C:\\Users\\nethm\\anaconda3\\lib\\site-packages\\sklearn\\metrics\\_classification.py:1318: UndefinedMetricWarning: Precision and F-score are ill-defined and being set to 0.0 in labels with no predicted samples. Use `zero_division` parameter to control this behavior.\n",
      "  _warn_prf(average, modifier, msg_start, len(result))\n",
      "C:\\Users\\nethm\\anaconda3\\lib\\site-packages\\sklearn\\metrics\\_classification.py:1318: UndefinedMetricWarning: Recall and F-score are ill-defined and being set to 0.0 in labels with no true samples. Use `zero_division` parameter to control this behavior.\n",
      "  _warn_prf(average, modifier, msg_start, len(result))\n",
      "C:\\Users\\nethm\\anaconda3\\lib\\site-packages\\sklearn\\metrics\\_classification.py:1318: UndefinedMetricWarning: Precision and F-score are ill-defined and being set to 0.0 in labels with no predicted samples. Use `zero_division` parameter to control this behavior.\n",
      "  _warn_prf(average, modifier, msg_start, len(result))\n",
      "C:\\Users\\nethm\\anaconda3\\lib\\site-packages\\sklearn\\metrics\\_classification.py:1318: UndefinedMetricWarning: Recall and F-score are ill-defined and being set to 0.0 in labels with no true samples. Use `zero_division` parameter to control this behavior.\n",
      "  _warn_prf(average, modifier, msg_start, len(result))\n"
     ]
    }
   ],
   "source": [
    "print(confusion_matrix(y_test,y_predict))\n",
    "print(classification_report(y_test, y_predict))"
   ]
  },
  {
   "cell_type": "code",
   "execution_count": null,
   "id": "805fda85",
   "metadata": {},
   "outputs": [],
   "source": []
  }
 ],
 "metadata": {
  "kernelspec": {
   "display_name": "Python 3 (ipykernel)",
   "language": "python",
   "name": "python3"
  },
  "language_info": {
   "codemirror_mode": {
    "name": "ipython",
    "version": 3
   },
   "file_extension": ".py",
   "mimetype": "text/x-python",
   "name": "python",
   "nbconvert_exporter": "python",
   "pygments_lexer": "ipython3",
   "version": "3.9.12"
  }
 },
 "nbformat": 4,
 "nbformat_minor": 5
}
