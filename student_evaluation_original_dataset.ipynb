{
 "cells": [
  {
   "cell_type": "markdown",
   "id": "b617ca62",
   "metadata": {},
   "source": [
    "Original dataset import"
   ]
  },
  {
   "cell_type": "code",
   "execution_count": 2,
   "id": "e1bb9719",
   "metadata": {},
   "outputs": [],
   "source": [
    "import pandas as pd"
   ]
  },
  {
   "cell_type": "code",
   "execution_count": 3,
   "id": "4f2515c7",
   "metadata": {},
   "outputs": [],
   "source": [
    "dataset = pd.read_csv(\"dataset/DATA.csv\")"
   ]
  },
  {
   "cell_type": "code",
   "execution_count": 4,
   "id": "dc5e4c08",
   "metadata": {
    "scrolled": false
   },
   "outputs": [
    {
     "data": {
      "text/html": [
       "<div>\n",
       "<style scoped>\n",
       "    .dataframe tbody tr th:only-of-type {\n",
       "        vertical-align: middle;\n",
       "    }\n",
       "\n",
       "    .dataframe tbody tr th {\n",
       "        vertical-align: top;\n",
       "    }\n",
       "\n",
       "    .dataframe thead th {\n",
       "        text-align: right;\n",
       "    }\n",
       "</style>\n",
       "<table border=\"1\" class=\"dataframe\">\n",
       "  <thead>\n",
       "    <tr style=\"text-align: right;\">\n",
       "      <th></th>\n",
       "      <th>STUDENT ID;1;2;3;4;5;6;7;8;9;10;11;12;13;14;15;16;17;18;19;20;21;22;23;24;25;26;27;28;29;30;COURSE ID;GRADE</th>\n",
       "    </tr>\n",
       "  </thead>\n",
       "  <tbody>\n",
       "    <tr>\n",
       "      <th>0</th>\n",
       "      <td>STUDENT1;2;2;3;3;1;2;2;1;1;1;1;2;3;1;2;5;3;2;2...</td>\n",
       "    </tr>\n",
       "    <tr>\n",
       "      <th>1</th>\n",
       "      <td>STUDENT2;2;2;3;3;1;2;2;1;1;1;2;3;2;1;2;1;2;2;2...</td>\n",
       "    </tr>\n",
       "    <tr>\n",
       "      <th>2</th>\n",
       "      <td>STUDENT3;2;2;2;3;2;2;2;2;4;2;2;2;2;1;2;1;2;1;2...</td>\n",
       "    </tr>\n",
       "    <tr>\n",
       "      <th>3</th>\n",
       "      <td>STUDENT4;1;1;1;3;1;2;1;2;1;2;1;2;5;1;2;1;3;1;2...</td>\n",
       "    </tr>\n",
       "    <tr>\n",
       "      <th>4</th>\n",
       "      <td>STUDENT5;2;2;1;3;2;2;1;3;1;4;3;3;2;1;2;4;2;1;1...</td>\n",
       "    </tr>\n",
       "  </tbody>\n",
       "</table>\n",
       "</div>"
      ],
      "text/plain": [
       "  STUDENT ID;1;2;3;4;5;6;7;8;9;10;11;12;13;14;15;16;17;18;19;20;21;22;23;24;25;26;27;28;29;30;COURSE ID;GRADE\n",
       "0  STUDENT1;2;2;3;3;1;2;2;1;1;1;1;2;3;1;2;5;3;2;2...                                                         \n",
       "1  STUDENT2;2;2;3;3;1;2;2;1;1;1;2;3;2;1;2;1;2;2;2...                                                         \n",
       "2  STUDENT3;2;2;2;3;2;2;2;2;4;2;2;2;2;1;2;1;2;1;2...                                                         \n",
       "3  STUDENT4;1;1;1;3;1;2;1;2;1;2;1;2;5;1;2;1;3;1;2...                                                         \n",
       "4  STUDENT5;2;2;1;3;2;2;1;3;1;4;3;3;2;1;2;4;2;1;1...                                                         "
      ]
     },
     "execution_count": 4,
     "metadata": {},
     "output_type": "execute_result"
    }
   ],
   "source": [
    "dataset.head()"
   ]
  },
  {
   "cell_type": "code",
   "execution_count": 5,
   "id": "dc4acfa1",
   "metadata": {},
   "outputs": [
    {
     "data": {
      "text/plain": [
       "Index(['STUDENT ID;1;2;3;4;5;6;7;8;9;10;11;12;13;14;15;16;17;18;19;20;21;22;23;24;25;26;27;28;29;30;COURSE ID;GRADE'], dtype='object')"
      ]
     },
     "execution_count": 5,
     "metadata": {},
     "output_type": "execute_result"
    }
   ],
   "source": [
    "dataset.columns"
   ]
  },
  {
   "cell_type": "code",
   "execution_count": 6,
   "id": "43c20b29",
   "metadata": {},
   "outputs": [
    {
     "name": "stdout",
     "output_type": "stream",
     "text": [
      "1\n"
     ]
    }
   ],
   "source": [
    "print(len(dataset.columns))"
   ]
  },
  {
   "cell_type": "code",
   "execution_count": 7,
   "id": "145c4b7f",
   "metadata": {},
   "outputs": [
    {
     "name": "stdout",
     "output_type": "stream",
     "text": [
      "<class 'pandas.core.frame.DataFrame'>\n",
      "RangeIndex: 145 entries, 0 to 144\n",
      "Data columns (total 1 columns):\n",
      " #   Column                                                                                                       Non-Null Count  Dtype \n",
      "---  ------                                                                                                       --------------  ----- \n",
      " 0   STUDENT ID;1;2;3;4;5;6;7;8;9;10;11;12;13;14;15;16;17;18;19;20;21;22;23;24;25;26;27;28;29;30;COURSE ID;GRADE  145 non-null    object\n",
      "dtypes: object(1)\n",
      "memory usage: 1.3+ KB\n"
     ]
    }
   ],
   "source": [
    "dataset.info()"
   ]
  },
  {
   "cell_type": "code",
   "execution_count": 8,
   "id": "adb772ba",
   "metadata": {},
   "outputs": [
    {
     "name": "stdout",
     "output_type": "stream",
     "text": [
      "(145, 1)\n"
     ]
    }
   ],
   "source": [
    "print(dataset.shape)"
   ]
  },
  {
   "cell_type": "markdown",
   "id": "ae20b129",
   "metadata": {},
   "source": [
    "Dividing the dataset in to columns"
   ]
  },
  {
   "cell_type": "code",
   "execution_count": 9,
   "id": "3c253de8",
   "metadata": {},
   "outputs": [],
   "source": [
    "dataset1 = pd.read_csv(\"dataset/DATA_copy_columndevided.csv\")"
   ]
  },
  {
   "cell_type": "code",
   "execution_count": 10,
   "id": "45272060",
   "metadata": {},
   "outputs": [
    {
     "data": {
      "text/html": [
       "<div>\n",
       "<style scoped>\n",
       "    .dataframe tbody tr th:only-of-type {\n",
       "        vertical-align: middle;\n",
       "    }\n",
       "\n",
       "    .dataframe tbody tr th {\n",
       "        vertical-align: top;\n",
       "    }\n",
       "\n",
       "    .dataframe thead th {\n",
       "        text-align: right;\n",
       "    }\n",
       "</style>\n",
       "<table border=\"1\" class=\"dataframe\">\n",
       "  <thead>\n",
       "    <tr style=\"text-align: right;\">\n",
       "      <th></th>\n",
       "      <th>STUDENT ID</th>\n",
       "      <th>1</th>\n",
       "      <th>2</th>\n",
       "      <th>3</th>\n",
       "      <th>4</th>\n",
       "      <th>5</th>\n",
       "      <th>6</th>\n",
       "      <th>7</th>\n",
       "      <th>8</th>\n",
       "      <th>9</th>\n",
       "      <th>...</th>\n",
       "      <th>23</th>\n",
       "      <th>24</th>\n",
       "      <th>25</th>\n",
       "      <th>26</th>\n",
       "      <th>27</th>\n",
       "      <th>28</th>\n",
       "      <th>29</th>\n",
       "      <th>30</th>\n",
       "      <th>COURSE ID</th>\n",
       "      <th>GRADE</th>\n",
       "    </tr>\n",
       "  </thead>\n",
       "  <tbody>\n",
       "    <tr>\n",
       "      <th>0</th>\n",
       "      <td>STUDENT1</td>\n",
       "      <td>2</td>\n",
       "      <td>2</td>\n",
       "      <td>3</td>\n",
       "      <td>3</td>\n",
       "      <td>1</td>\n",
       "      <td>2</td>\n",
       "      <td>2</td>\n",
       "      <td>1</td>\n",
       "      <td>1</td>\n",
       "      <td>...</td>\n",
       "      <td>1</td>\n",
       "      <td>1</td>\n",
       "      <td>3</td>\n",
       "      <td>2</td>\n",
       "      <td>1</td>\n",
       "      <td>2</td>\n",
       "      <td>1</td>\n",
       "      <td>1</td>\n",
       "      <td>1</td>\n",
       "      <td>1</td>\n",
       "    </tr>\n",
       "    <tr>\n",
       "      <th>1</th>\n",
       "      <td>STUDENT2</td>\n",
       "      <td>2</td>\n",
       "      <td>2</td>\n",
       "      <td>3</td>\n",
       "      <td>3</td>\n",
       "      <td>1</td>\n",
       "      <td>2</td>\n",
       "      <td>2</td>\n",
       "      <td>1</td>\n",
       "      <td>1</td>\n",
       "      <td>...</td>\n",
       "      <td>1</td>\n",
       "      <td>1</td>\n",
       "      <td>3</td>\n",
       "      <td>2</td>\n",
       "      <td>3</td>\n",
       "      <td>2</td>\n",
       "      <td>2</td>\n",
       "      <td>3</td>\n",
       "      <td>1</td>\n",
       "      <td>1</td>\n",
       "    </tr>\n",
       "    <tr>\n",
       "      <th>2</th>\n",
       "      <td>STUDENT3</td>\n",
       "      <td>2</td>\n",
       "      <td>2</td>\n",
       "      <td>2</td>\n",
       "      <td>3</td>\n",
       "      <td>2</td>\n",
       "      <td>2</td>\n",
       "      <td>2</td>\n",
       "      <td>2</td>\n",
       "      <td>4</td>\n",
       "      <td>...</td>\n",
       "      <td>1</td>\n",
       "      <td>1</td>\n",
       "      <td>2</td>\n",
       "      <td>2</td>\n",
       "      <td>1</td>\n",
       "      <td>1</td>\n",
       "      <td>2</td>\n",
       "      <td>2</td>\n",
       "      <td>1</td>\n",
       "      <td>1</td>\n",
       "    </tr>\n",
       "    <tr>\n",
       "      <th>3</th>\n",
       "      <td>STUDENT4</td>\n",
       "      <td>1</td>\n",
       "      <td>1</td>\n",
       "      <td>1</td>\n",
       "      <td>3</td>\n",
       "      <td>1</td>\n",
       "      <td>2</td>\n",
       "      <td>1</td>\n",
       "      <td>2</td>\n",
       "      <td>1</td>\n",
       "      <td>...</td>\n",
       "      <td>1</td>\n",
       "      <td>2</td>\n",
       "      <td>3</td>\n",
       "      <td>2</td>\n",
       "      <td>2</td>\n",
       "      <td>1</td>\n",
       "      <td>3</td>\n",
       "      <td>2</td>\n",
       "      <td>1</td>\n",
       "      <td>1</td>\n",
       "    </tr>\n",
       "    <tr>\n",
       "      <th>4</th>\n",
       "      <td>STUDENT5</td>\n",
       "      <td>2</td>\n",
       "      <td>2</td>\n",
       "      <td>1</td>\n",
       "      <td>3</td>\n",
       "      <td>2</td>\n",
       "      <td>2</td>\n",
       "      <td>1</td>\n",
       "      <td>3</td>\n",
       "      <td>1</td>\n",
       "      <td>...</td>\n",
       "      <td>2</td>\n",
       "      <td>1</td>\n",
       "      <td>2</td>\n",
       "      <td>2</td>\n",
       "      <td>2</td>\n",
       "      <td>1</td>\n",
       "      <td>2</td>\n",
       "      <td>2</td>\n",
       "      <td>1</td>\n",
       "      <td>1</td>\n",
       "    </tr>\n",
       "  </tbody>\n",
       "</table>\n",
       "<p>5 rows × 33 columns</p>\n",
       "</div>"
      ],
      "text/plain": [
       "  STUDENT ID  1  2  3  4  5  6  7  8  9  ...  23  24  25  26  27  28  29  30  \\\n",
       "0   STUDENT1  2  2  3  3  1  2  2  1  1  ...   1   1   3   2   1   2   1   1   \n",
       "1   STUDENT2  2  2  3  3  1  2  2  1  1  ...   1   1   3   2   3   2   2   3   \n",
       "2   STUDENT3  2  2  2  3  2  2  2  2  4  ...   1   1   2   2   1   1   2   2   \n",
       "3   STUDENT4  1  1  1  3  1  2  1  2  1  ...   1   2   3   2   2   1   3   2   \n",
       "4   STUDENT5  2  2  1  3  2  2  1  3  1  ...   2   1   2   2   2   1   2   2   \n",
       "\n",
       "   COURSE ID  GRADE  \n",
       "0          1      1  \n",
       "1          1      1  \n",
       "2          1      1  \n",
       "3          1      1  \n",
       "4          1      1  \n",
       "\n",
       "[5 rows x 33 columns]"
      ]
     },
     "execution_count": 10,
     "metadata": {},
     "output_type": "execute_result"
    }
   ],
   "source": [
    "dataset1.head()"
   ]
  },
  {
   "cell_type": "code",
   "execution_count": 11,
   "id": "454234d4",
   "metadata": {},
   "outputs": [
    {
     "name": "stdout",
     "output_type": "stream",
     "text": [
      "<class 'pandas.core.frame.DataFrame'>\n",
      "RangeIndex: 145 entries, 0 to 144\n",
      "Data columns (total 33 columns):\n",
      " #   Column      Non-Null Count  Dtype \n",
      "---  ------      --------------  ----- \n",
      " 0   STUDENT ID  145 non-null    object\n",
      " 1   1           145 non-null    int64 \n",
      " 2   2           145 non-null    int64 \n",
      " 3   3           145 non-null    int64 \n",
      " 4   4           145 non-null    int64 \n",
      " 5   5           145 non-null    int64 \n",
      " 6   6           145 non-null    int64 \n",
      " 7   7           145 non-null    int64 \n",
      " 8   8           145 non-null    int64 \n",
      " 9   9           145 non-null    int64 \n",
      " 10  10          145 non-null    int64 \n",
      " 11  11          145 non-null    int64 \n",
      " 12  12          145 non-null    int64 \n",
      " 13  13          145 non-null    int64 \n",
      " 14  14          145 non-null    int64 \n",
      " 15  15          145 non-null    int64 \n",
      " 16  16          145 non-null    int64 \n",
      " 17  17          145 non-null    int64 \n",
      " 18  18          145 non-null    int64 \n",
      " 19  19          145 non-null    int64 \n",
      " 20  20          145 non-null    int64 \n",
      " 21  21          145 non-null    int64 \n",
      " 22  22          145 non-null    int64 \n",
      " 23  23          145 non-null    int64 \n",
      " 24  24          145 non-null    int64 \n",
      " 25  25          145 non-null    int64 \n",
      " 26  26          145 non-null    int64 \n",
      " 27  27          145 non-null    int64 \n",
      " 28  28          145 non-null    int64 \n",
      " 29  29          145 non-null    int64 \n",
      " 30  30          145 non-null    int64 \n",
      " 31  COURSE ID   145 non-null    int64 \n",
      " 32  GRADE       145 non-null    int64 \n",
      "dtypes: int64(32), object(1)\n",
      "memory usage: 37.5+ KB\n"
     ]
    }
   ],
   "source": [
    "dataset1.info()"
   ]
  },
  {
   "cell_type": "code",
   "execution_count": 12,
   "id": "17e4a53b",
   "metadata": {},
   "outputs": [
    {
     "name": "stdout",
     "output_type": "stream",
     "text": [
      "33\n"
     ]
    }
   ],
   "source": [
    "print(len(dataset1.columns))"
   ]
  },
  {
   "cell_type": "code",
   "execution_count": 13,
   "id": "aa83f26a",
   "metadata": {},
   "outputs": [
    {
     "data": {
      "text/plain": [
       "STUDENT ID    object\n",
       "1              int64\n",
       "2              int64\n",
       "3              int64\n",
       "4              int64\n",
       "5              int64\n",
       "6              int64\n",
       "7              int64\n",
       "8              int64\n",
       "9              int64\n",
       "10             int64\n",
       "11             int64\n",
       "12             int64\n",
       "13             int64\n",
       "14             int64\n",
       "15             int64\n",
       "16             int64\n",
       "17             int64\n",
       "18             int64\n",
       "19             int64\n",
       "20             int64\n",
       "21             int64\n",
       "22             int64\n",
       "23             int64\n",
       "24             int64\n",
       "25             int64\n",
       "26             int64\n",
       "27             int64\n",
       "28             int64\n",
       "29             int64\n",
       "30             int64\n",
       "COURSE ID      int64\n",
       "GRADE          int64\n",
       "dtype: object"
      ]
     },
     "execution_count": 13,
     "metadata": {},
     "output_type": "execute_result"
    }
   ],
   "source": [
    "dataset1.dtypes"
   ]
  },
  {
   "cell_type": "code",
   "execution_count": 14,
   "id": "29e78dcf",
   "metadata": {},
   "outputs": [
    {
     "data": {
      "text/plain": [
       "Index(['STUDENT ID', '1', '2', '3', '4', '5', '6', '7', '8', '9', '10', '11',\n",
       "       '12', '13', '14', '15', '16', '17', '18', '19', '20', '21', '22', '23',\n",
       "       '24', '25', '26', '27', '28', '29', '30', 'COURSE ID', 'GRADE'],\n",
       "      dtype='object')"
      ]
     },
     "execution_count": 14,
     "metadata": {},
     "output_type": "execute_result"
    }
   ],
   "source": [
    "dataset1.columns"
   ]
  },
  {
   "cell_type": "code",
   "execution_count": 15,
   "id": "6294ccba",
   "metadata": {},
   "outputs": [
    {
     "data": {
      "text/plain": [
       "array([['STUDENT1', 2, 2, ..., 1, 1, 1],\n",
       "       ['STUDENT2', 2, 2, ..., 3, 1, 1],\n",
       "       ['STUDENT3', 2, 2, ..., 2, 1, 1],\n",
       "       ...,\n",
       "       ['STUDENT143', 1, 1, ..., 3, 9, 1],\n",
       "       ['STUDENT144', 2, 1, ..., 3, 9, 4],\n",
       "       ['STUDENT145', 1, 1, ..., 4, 9, 3]], dtype=object)"
      ]
     },
     "execution_count": 15,
     "metadata": {},
     "output_type": "execute_result"
    }
   ],
   "source": [
    "dataset1.values"
   ]
  },
  {
   "cell_type": "code",
   "execution_count": 16,
   "id": "e05ee603",
   "metadata": {},
   "outputs": [],
   "source": [
    "ds_class = dataset1.groupby(['GRADE'])"
   ]
  },
  {
   "cell_type": "code",
   "execution_count": 17,
   "id": "c7df754c",
   "metadata": {},
   "outputs": [
    {
     "data": {
      "text/html": [
       "<div>\n",
       "<style scoped>\n",
       "    .dataframe tbody tr th:only-of-type {\n",
       "        vertical-align: middle;\n",
       "    }\n",
       "\n",
       "    .dataframe tbody tr th {\n",
       "        vertical-align: top;\n",
       "    }\n",
       "\n",
       "    .dataframe thead th {\n",
       "        text-align: right;\n",
       "    }\n",
       "</style>\n",
       "<table border=\"1\" class=\"dataframe\">\n",
       "  <thead>\n",
       "    <tr style=\"text-align: right;\">\n",
       "      <th></th>\n",
       "      <th>1</th>\n",
       "      <th>2</th>\n",
       "      <th>3</th>\n",
       "      <th>4</th>\n",
       "      <th>5</th>\n",
       "      <th>6</th>\n",
       "      <th>7</th>\n",
       "      <th>8</th>\n",
       "      <th>9</th>\n",
       "      <th>10</th>\n",
       "      <th>...</th>\n",
       "      <th>22</th>\n",
       "      <th>23</th>\n",
       "      <th>24</th>\n",
       "      <th>25</th>\n",
       "      <th>26</th>\n",
       "      <th>27</th>\n",
       "      <th>28</th>\n",
       "      <th>29</th>\n",
       "      <th>30</th>\n",
       "      <th>COURSE ID</th>\n",
       "    </tr>\n",
       "    <tr>\n",
       "      <th>GRADE</th>\n",
       "      <th></th>\n",
       "      <th></th>\n",
       "      <th></th>\n",
       "      <th></th>\n",
       "      <th></th>\n",
       "      <th></th>\n",
       "      <th></th>\n",
       "      <th></th>\n",
       "      <th></th>\n",
       "      <th></th>\n",
       "      <th></th>\n",
       "      <th></th>\n",
       "      <th></th>\n",
       "      <th></th>\n",
       "      <th></th>\n",
       "      <th></th>\n",
       "      <th></th>\n",
       "      <th></th>\n",
       "      <th></th>\n",
       "      <th></th>\n",
       "      <th></th>\n",
       "    </tr>\n",
       "  </thead>\n",
       "  <tbody>\n",
       "    <tr>\n",
       "      <th>0</th>\n",
       "      <td>1.250000</td>\n",
       "      <td>1.000000</td>\n",
       "      <td>1.750000</td>\n",
       "      <td>3.625000</td>\n",
       "      <td>1.375000</td>\n",
       "      <td>1.375000</td>\n",
       "      <td>1.250000</td>\n",
       "      <td>2.250000</td>\n",
       "      <td>2.375000</td>\n",
       "      <td>2.375000</td>\n",
       "      <td>...</td>\n",
       "      <td>1.250000</td>\n",
       "      <td>1.875000</td>\n",
       "      <td>1.125000</td>\n",
       "      <td>2.375000</td>\n",
       "      <td>1.875000</td>\n",
       "      <td>2.125000</td>\n",
       "      <td>1.625000</td>\n",
       "      <td>2.000000</td>\n",
       "      <td>2.125000</td>\n",
       "      <td>5.875000</td>\n",
       "    </tr>\n",
       "    <tr>\n",
       "      <th>1</th>\n",
       "      <td>1.714286</td>\n",
       "      <td>1.542857</td>\n",
       "      <td>1.942857</td>\n",
       "      <td>3.485714</td>\n",
       "      <td>1.628571</td>\n",
       "      <td>1.657143</td>\n",
       "      <td>1.628571</td>\n",
       "      <td>1.600000</td>\n",
       "      <td>1.714286</td>\n",
       "      <td>1.657143</td>\n",
       "      <td>...</td>\n",
       "      <td>1.342857</td>\n",
       "      <td>1.200000</td>\n",
       "      <td>1.142857</td>\n",
       "      <td>2.657143</td>\n",
       "      <td>1.971429</td>\n",
       "      <td>2.285714</td>\n",
       "      <td>1.771429</td>\n",
       "      <td>2.514286</td>\n",
       "      <td>2.428571</td>\n",
       "      <td>3.342857</td>\n",
       "    </tr>\n",
       "    <tr>\n",
       "      <th>2</th>\n",
       "      <td>1.625000</td>\n",
       "      <td>1.500000</td>\n",
       "      <td>1.875000</td>\n",
       "      <td>3.708333</td>\n",
       "      <td>1.666667</td>\n",
       "      <td>1.625000</td>\n",
       "      <td>1.791667</td>\n",
       "      <td>1.958333</td>\n",
       "      <td>1.708333</td>\n",
       "      <td>1.583333</td>\n",
       "      <td>...</td>\n",
       "      <td>1.333333</td>\n",
       "      <td>1.333333</td>\n",
       "      <td>1.083333</td>\n",
       "      <td>2.250000</td>\n",
       "      <td>1.958333</td>\n",
       "      <td>2.291667</td>\n",
       "      <td>1.541667</td>\n",
       "      <td>2.750000</td>\n",
       "      <td>2.500000</td>\n",
       "      <td>3.750000</td>\n",
       "    </tr>\n",
       "    <tr>\n",
       "      <th>3</th>\n",
       "      <td>1.809524</td>\n",
       "      <td>1.666667</td>\n",
       "      <td>1.857143</td>\n",
       "      <td>3.523810</td>\n",
       "      <td>1.666667</td>\n",
       "      <td>1.809524</td>\n",
       "      <td>1.476190</td>\n",
       "      <td>1.714286</td>\n",
       "      <td>1.571429</td>\n",
       "      <td>1.714286</td>\n",
       "      <td>...</td>\n",
       "      <td>1.047619</td>\n",
       "      <td>1.380952</td>\n",
       "      <td>1.285714</td>\n",
       "      <td>2.666667</td>\n",
       "      <td>2.238095</td>\n",
       "      <td>2.619048</td>\n",
       "      <td>1.952381</td>\n",
       "      <td>3.809524</td>\n",
       "      <td>3.190476</td>\n",
       "      <td>3.904762</td>\n",
       "    </tr>\n",
       "    <tr>\n",
       "      <th>4</th>\n",
       "      <td>1.600000</td>\n",
       "      <td>1.500000</td>\n",
       "      <td>1.900000</td>\n",
       "      <td>3.300000</td>\n",
       "      <td>1.400000</td>\n",
       "      <td>1.400000</td>\n",
       "      <td>1.600000</td>\n",
       "      <td>1.600000</td>\n",
       "      <td>1.300000</td>\n",
       "      <td>1.400000</td>\n",
       "      <td>...</td>\n",
       "      <td>1.300000</td>\n",
       "      <td>1.300000</td>\n",
       "      <td>1.200000</td>\n",
       "      <td>2.600000</td>\n",
       "      <td>2.100000</td>\n",
       "      <td>2.500000</td>\n",
       "      <td>1.900000</td>\n",
       "      <td>3.500000</td>\n",
       "      <td>2.600000</td>\n",
       "      <td>4.500000</td>\n",
       "    </tr>\n",
       "    <tr>\n",
       "      <th>5</th>\n",
       "      <td>1.764706</td>\n",
       "      <td>1.647059</td>\n",
       "      <td>2.235294</td>\n",
       "      <td>3.647059</td>\n",
       "      <td>1.764706</td>\n",
       "      <td>1.529412</td>\n",
       "      <td>1.529412</td>\n",
       "      <td>1.176471</td>\n",
       "      <td>1.588235</td>\n",
       "      <td>1.705882</td>\n",
       "      <td>...</td>\n",
       "      <td>1.294118</td>\n",
       "      <td>1.235294</td>\n",
       "      <td>1.058824</td>\n",
       "      <td>2.647059</td>\n",
       "      <td>2.117647</td>\n",
       "      <td>2.411765</td>\n",
       "      <td>1.882353</td>\n",
       "      <td>4.058824</td>\n",
       "      <td>3.176471</td>\n",
       "      <td>2.823529</td>\n",
       "    </tr>\n",
       "    <tr>\n",
       "      <th>6</th>\n",
       "      <td>1.538462</td>\n",
       "      <td>1.692308</td>\n",
       "      <td>2.000000</td>\n",
       "      <td>3.769231</td>\n",
       "      <td>1.769231</td>\n",
       "      <td>1.461538</td>\n",
       "      <td>1.615385</td>\n",
       "      <td>1.153846</td>\n",
       "      <td>1.230769</td>\n",
       "      <td>2.000000</td>\n",
       "      <td>...</td>\n",
       "      <td>1.153846</td>\n",
       "      <td>1.153846</td>\n",
       "      <td>1.153846</td>\n",
       "      <td>2.384615</td>\n",
       "      <td>2.230769</td>\n",
       "      <td>2.307692</td>\n",
       "      <td>2.076923</td>\n",
       "      <td>3.538462</td>\n",
       "      <td>2.692308</td>\n",
       "      <td>5.615385</td>\n",
       "    </tr>\n",
       "    <tr>\n",
       "      <th>7</th>\n",
       "      <td>1.294118</td>\n",
       "      <td>2.000000</td>\n",
       "      <td>1.941176</td>\n",
       "      <td>3.529412</td>\n",
       "      <td>1.823529</td>\n",
       "      <td>1.588235</td>\n",
       "      <td>1.470588</td>\n",
       "      <td>1.647059</td>\n",
       "      <td>1.529412</td>\n",
       "      <td>1.823529</td>\n",
       "      <td>...</td>\n",
       "      <td>1.117647</td>\n",
       "      <td>1.588235</td>\n",
       "      <td>1.294118</td>\n",
       "      <td>2.647059</td>\n",
       "      <td>2.000000</td>\n",
       "      <td>2.588235</td>\n",
       "      <td>1.823529</td>\n",
       "      <td>3.117647</td>\n",
       "      <td>3.000000</td>\n",
       "      <td>5.705882</td>\n",
       "    </tr>\n",
       "  </tbody>\n",
       "</table>\n",
       "<p>8 rows × 31 columns</p>\n",
       "</div>"
      ],
      "text/plain": [
       "              1         2         3         4         5         6         7  \\\n",
       "GRADE                                                                         \n",
       "0      1.250000  1.000000  1.750000  3.625000  1.375000  1.375000  1.250000   \n",
       "1      1.714286  1.542857  1.942857  3.485714  1.628571  1.657143  1.628571   \n",
       "2      1.625000  1.500000  1.875000  3.708333  1.666667  1.625000  1.791667   \n",
       "3      1.809524  1.666667  1.857143  3.523810  1.666667  1.809524  1.476190   \n",
       "4      1.600000  1.500000  1.900000  3.300000  1.400000  1.400000  1.600000   \n",
       "5      1.764706  1.647059  2.235294  3.647059  1.764706  1.529412  1.529412   \n",
       "6      1.538462  1.692308  2.000000  3.769231  1.769231  1.461538  1.615385   \n",
       "7      1.294118  2.000000  1.941176  3.529412  1.823529  1.588235  1.470588   \n",
       "\n",
       "              8         9        10  ...        22        23        24  \\\n",
       "GRADE                                ...                                 \n",
       "0      2.250000  2.375000  2.375000  ...  1.250000  1.875000  1.125000   \n",
       "1      1.600000  1.714286  1.657143  ...  1.342857  1.200000  1.142857   \n",
       "2      1.958333  1.708333  1.583333  ...  1.333333  1.333333  1.083333   \n",
       "3      1.714286  1.571429  1.714286  ...  1.047619  1.380952  1.285714   \n",
       "4      1.600000  1.300000  1.400000  ...  1.300000  1.300000  1.200000   \n",
       "5      1.176471  1.588235  1.705882  ...  1.294118  1.235294  1.058824   \n",
       "6      1.153846  1.230769  2.000000  ...  1.153846  1.153846  1.153846   \n",
       "7      1.647059  1.529412  1.823529  ...  1.117647  1.588235  1.294118   \n",
       "\n",
       "             25        26        27        28        29        30  COURSE ID  \n",
       "GRADE                                                                         \n",
       "0      2.375000  1.875000  2.125000  1.625000  2.000000  2.125000   5.875000  \n",
       "1      2.657143  1.971429  2.285714  1.771429  2.514286  2.428571   3.342857  \n",
       "2      2.250000  1.958333  2.291667  1.541667  2.750000  2.500000   3.750000  \n",
       "3      2.666667  2.238095  2.619048  1.952381  3.809524  3.190476   3.904762  \n",
       "4      2.600000  2.100000  2.500000  1.900000  3.500000  2.600000   4.500000  \n",
       "5      2.647059  2.117647  2.411765  1.882353  4.058824  3.176471   2.823529  \n",
       "6      2.384615  2.230769  2.307692  2.076923  3.538462  2.692308   5.615385  \n",
       "7      2.647059  2.000000  2.588235  1.823529  3.117647  3.000000   5.705882  \n",
       "\n",
       "[8 rows x 31 columns]"
      ]
     },
     "execution_count": 17,
     "metadata": {},
     "output_type": "execute_result"
    }
   ],
   "source": [
    "ds_class.mean()"
   ]
  },
  {
   "cell_type": "code",
   "execution_count": 18,
   "id": "a241a609",
   "metadata": {},
   "outputs": [],
   "source": [
    "import matplotlib.pyplot as plt"
   ]
  },
  {
   "cell_type": "code",
   "execution_count": 20,
   "id": "49ec8729",
   "metadata": {},
   "outputs": [
    {
     "data": {
      "image/png": "[encoded data removed]",
      "text/plain": [
       "<Figure size 432x288 with 1 Axes>"
      ]
     },
     "metadata": {
      "needs_background": "light"
     },
     "output_type": "display_data"
    }
   ],
   "source": [
    "plt.hist(dataset1.loc[:,['GRADE']])\n",
    "plt.show()"
   ]
  },
  {
   "cell_type": "code",
   "execution_count": 19,
   "id": "3f6f1868",
   "metadata": {},
   "outputs": [],
   "source": [
    "import seaborn as sns"
   ]
  },
  {
   "cell_type": "code",
   "execution_count": 21,
   "id": "a5ee5c38",
   "metadata": {},
   "outputs": [
    {
     "name": "stderr",
     "output_type": "stream",
     "text": [
      "C:\\Users\\nethm\\anaconda3\\lib\\site-packages\\seaborn\\_decorators.py:36: FutureWarning: Pass the following variable as a keyword arg: x. From version 0.12, the only valid positional argument will be `data`, and passing other arguments without an explicit keyword will result in an error or misinterpretation.\n",
      "  warnings.warn(\n"
     ]
    },
    {
     "data": {
      "image/png": "[encoded data removed]",
      "text/plain": [
       "<Figure size 432x288 with 1 Axes>"
      ]
     },
     "metadata": {
      "needs_background": "light"
     },
     "output_type": "display_data"
    }
   ],
   "source": [
    "sns.countplot(dataset1['GRADE'],label=\"Count\")\n",
    "plt.show()"
   ]
  },
  {
   "cell_type": "code",
   "execution_count": 21,
   "id": "85578766",
   "metadata": {},
   "outputs": [
    {
     "data": {
      "image/png": "[encoded data removed]",
      "text/plain": [
       "<Figure size 432x288 with 1 Axes>"
      ]
     },
     "metadata": {
      "needs_background": "light"
     },
     "output_type": "display_data"
    }
   ],
   "source": [
    "plt.scatter(dataset1.iloc[:,0], dataset1.iloc[:,1])\n",
    "plt.show()"
   ]
  },
  {
   "cell_type": "code",
   "execution_count": 22,
   "id": "a84aced4",
   "metadata": {},
   "outputs": [
    {
     "data": {
      "text/html": [
       "<div>\n",
       "<style scoped>\n",
       "    .dataframe tbody tr th:only-of-type {\n",
       "        vertical-align: middle;\n",
       "    }\n",
       "\n",
       "    .dataframe tbody tr th {\n",
       "        vertical-align: top;\n",
       "    }\n",
       "\n",
       "    .dataframe thead th {\n",
       "        text-align: right;\n",
       "    }\n",
       "</style>\n",
       "<table border=\"1\" class=\"dataframe\">\n",
       "  <thead>\n",
       "    <tr style=\"text-align: right;\">\n",
       "      <th></th>\n",
       "      <th>STUDENT ID</th>\n",
       "      <th>1</th>\n",
       "      <th>2</th>\n",
       "      <th>3</th>\n",
       "      <th>4</th>\n",
       "      <th>5</th>\n",
       "      <th>6</th>\n",
       "      <th>7</th>\n",
       "      <th>8</th>\n",
       "      <th>9</th>\n",
       "      <th>...</th>\n",
       "      <th>23</th>\n",
       "      <th>24</th>\n",
       "      <th>25</th>\n",
       "      <th>26</th>\n",
       "      <th>27</th>\n",
       "      <th>28</th>\n",
       "      <th>29</th>\n",
       "      <th>30</th>\n",
       "      <th>COURSE ID</th>\n",
       "      <th>GRADE</th>\n",
       "    </tr>\n",
       "  </thead>\n",
       "  <tbody>\n",
       "  </tbody>\n",
       "</table>\n",
       "<p>0 rows × 33 columns</p>\n",
       "</div>"
      ],
      "text/plain": [
       "Empty DataFrame\n",
       "Columns: [STUDENT ID, 1, 2, 3, 4, 5, 6, 7, 8, 9, 10, 11, 12, 13, 14, 15, 16, 17, 18, 19, 20, 21, 22, 23, 24, 25, 26, 27, 28, 29, 30, COURSE ID, GRADE]\n",
       "Index: []\n",
       "\n",
       "[0 rows x 33 columns]"
      ]
     },
     "execution_count": 22,
     "metadata": {},
     "output_type": "execute_result"
    }
   ],
   "source": [
    "dataset1[dataset1.isnull().any(axis=1)].head()"
   ]
  },
  {
   "cell_type": "markdown",
   "id": "a4e279c5",
   "metadata": {},
   "source": [
    "K-Nearest neighbor classificaiton"
   ]
  },
  {
   "cell_type": "code",
   "execution_count": null,
   "id": "5e5c66f8",
   "metadata": {},
   "outputs": [],
   "source": []
  }
 ],
 "metadata": {
  "kernelspec": {
   "display_name": "Python 3 (ipykernel)",
   "language": "python",
   "name": "python3"
  },
  "language_info": {
   "codemirror_mode": {
    "name": "ipython",
    "version": 3
   },
   "file_extension": ".py",
   "mimetype": "text/x-python",
   "name": "python",
   "nbconvert_exporter": "python",
   "pygments_lexer": "ipython3",
   "version": "3.9.12"
  }
 },
 "nbformat": 4,
 "nbformat_minor": 5
}
